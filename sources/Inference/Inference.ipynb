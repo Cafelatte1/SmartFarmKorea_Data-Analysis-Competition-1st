{
 "cells": [
  {
   "cell_type": "markdown",
   "id": "4ef4f44d",
   "metadata": {},
   "source": [
    "## Setup"
   ]
  },
  {
   "cell_type": "code",
   "execution_count": 4,
   "id": "34ceb3f1",
   "metadata": {},
   "outputs": [],
   "source": [
    "GLOBAL_SEED = 42\n",
    "\n",
    "import os\n",
    "os.environ['PYTHONHASHSEED'] = str(GLOBAL_SEED)\n",
    "import glob\n",
    "import sys\n",
    "import shutil\n",
    "import pickle\n",
    "import random as rnd\n",
    "from tqdm import tqdm\n",
    "import time\n",
    "\n",
    "import numpy as np\n",
    "from numpy import random as np_rnd\n",
    "import pandas as pd\n",
    "import matplotlib.pyplot as plt\n",
    "from sklearn.model_selection import train_test_split as tts\n",
    "\n",
    "from sklearn.preprocessing import OneHotEncoder, StandardScaler, MinMaxScaler\n",
    "from sklearn import linear_model as lm\n",
    "from sklearn import metrics\n",
    "\n",
    "import xgboost as xgb\n",
    "\n",
    "import librosa\n",
    "\n",
    "import torch\n",
    "from torch import nn\n",
    "import torch.nn.functional as F\n",
    "from torch.optim import AdamW\n",
    "from torch.utils.data import DataLoader, Dataset\n",
    "from transformers import get_polynomial_decay_schedule_with_warmup\n",
    "device = torch.device('cuda' if torch.cuda.is_available() else 'cpu')"
   ]
  },
  {
   "cell_type": "code",
   "execution_count": 5,
   "id": "a13cd020",
   "metadata": {},
   "outputs": [],
   "source": [
    "def seed_everything(seed=42):\n",
    "    os.environ['PYTHONHASHSEED'] = str(seed)\n",
    "    # python random\n",
    "    rnd.seed(seed)\n",
    "    # numpy random\n",
    "    np_rnd.seed(seed)\n",
    "    # tf random\n",
    "    try:\n",
    "        tf_rnd.set_seed(seed)\n",
    "    except:\n",
    "        pass\n",
    "    # RAPIDS random\n",
    "    try:\n",
    "        cupy.random.seed(seed)\n",
    "    except:\n",
    "        pass\n",
    "    # pytorch random\n",
    "    try:\n",
    "        torch.manual_seed(seed)\n",
    "        torch.cuda.manual_seed(seed)\n",
    "        torch.backends.cudnn.deterministic = True\n",
    "    except:\n",
    "        pass\n",
    "\n",
    "def pickleIO(obj, src, op=\"w\"):\n",
    "    if op == \"w\":\n",
    "        with open(src, op + \"b\") as f:\n",
    "            pickle.dump(obj, f)\n",
    "    elif op == \"r\":\n",
    "        with open(src, op + \"b\") as f:\n",
    "            tmp = pickle.load(f)\n",
    "        return tmp\n",
    "    else:\n",
    "        print(\"unknown operation\")\n",
    "        return obj\n",
    "    \n",
    "def findIdx(data_x, col_names):\n",
    "    return [int(i) for i, j in enumerate(data_x) if j in col_names]\n",
    "\n",
    "def diff(first, second):\n",
    "        second = set(second)\n",
    "        return [item for item in first if item not in second]\n",
    "    \n",
    "def createFolder(directory):\n",
    "    try:\n",
    "        if not os.path.exists(directory):\n",
    "            os.makedirs(directory)\n",
    "    except OSError:\n",
    "        print('Error: Creating directory. ' + directory)\n",
    "        \n",
    "def week_of_month(dt):\n",
    "    \"\"\" \n",
    "        Returns the week of the month for the specified date.\n",
    "    \"\"\"\n",
    "    first_day = dt.replace(day=1)\n",
    "    dom = dt.day\n",
    "    adjusted_dom = dom + (1 + first_day.weekday()) % 7\n",
    "    return int(np.ceil(adjusted_dom/7.0))\n",
    "\n",
    "def get_season(dt):\n",
    "    dt = int(dt)\n",
    "    if dt in [3, 4, 5]:\n",
    "        return 0\n",
    "    elif dt in [6, 7, 8]:\n",
    "        return 1\n",
    "    elif dt in [9, 10, 11]:\n",
    "        return 2\n",
    "    else:\n",
    "        return 3"
   ]
  },
  {
   "cell_type": "code",
   "execution_count": 6,
   "id": "fa84c5ec",
   "metadata": {},
   "outputs": [],
   "source": [
    "class CFG:\n",
    "    debug = False\n",
    "    data_path = \".\\\\data\\\\\"\n",
    "    \n",
    "    n_mfcc = 32\n",
    "    n_chroma = 16\n",
    "    \n",
    "    epochs = 50\n",
    "    batch_size = 32\n",
    "    warmup = int(epochs * 0.1)\n",
    "    early_stopping_rounds = int(epochs * 0.2)\n",
    "    \n",
    "    eta = 5e-4\n",
    "    weight_decay = 1e-4"
   ]
  },
  {
   "cell_type": "markdown",
   "id": "bba6850e",
   "metadata": {},
   "source": [
    "## Inference"
   ]
  },
  {
   "cell_type": "code",
   "execution_count": 37,
   "id": "a6e35f2e",
   "metadata": {},
   "outputs": [],
   "source": [
    "architecture_root_path = \"./architectures/\"\n",
    "architecture_name_list = {\n",
    "    \"lg_v1\": None,\n",
    "    \"elasticnet_v1\": None,\n",
    "    \"randomforest_v1\": None,\n",
    "    \"knn_v1\": None,\n",
    "    \"xgboost_v1\":  None,\n",
    "    \"dnn_v1\": None,\n",
    "    \"ensemble_v1\": None,\n",
    "}\n",
    "# architecture_path = architecture_root_path + architecture_name + \"/\""
   ]
  },
  {
   "cell_type": "code",
   "execution_count": 38,
   "id": "7e0b2fff",
   "metadata": {},
   "outputs": [],
   "source": [
    "df_private = pickleIO(None, \"./dataset/df_private.pkl\", \"r\")\n",
    "df_private[\"type\"] = df_private[\"type\"].apply(lambda x: 1 if x == \"abdominal\" else 0)\n",
    "df_private_y = df_private[\"type\"].astype(\"int32\")"
   ]
  },
  {
   "cell_type": "code",
   "execution_count": 39,
   "id": "c13e1e20",
   "metadata": {},
   "outputs": [
    {
     "name": "stdout",
     "output_type": "stream",
     "text": [
      "Model lg_v1 Private Score !\n"
     ]
    },
    {
     "data": {
      "text/plain": [
       "{'logloss': 0.1759513420781306,\n",
       " 'roc_auc': 0.97845287641206,\n",
       " 'accuracy': 0.9335839598997494,\n",
       " 'f1': 0.9238740125166718}"
      ]
     },
     "metadata": {},
     "output_type": "display_data"
    },
    {
     "name": "stdout",
     "output_type": "stream",
     "text": [
      "Model elasticnet_v1 Private Score !\n"
     ]
    },
    {
     "data": {
      "text/plain": [
       "{'logloss': 0.17836701588416268,\n",
       " 'roc_auc': 0.9781305291509373,\n",
       " 'accuracy': 0.9385964912280702,\n",
       " 'f1': 0.9297629846510334}"
      ]
     },
     "metadata": {},
     "output_type": "display_data"
    },
    {
     "name": "stdout",
     "output_type": "stream",
     "text": [
      "Model randomforest_v1 Private Score !\n"
     ]
    },
    {
     "data": {
      "text/plain": [
       "{'logloss': 0.25222669378092255,\n",
       " 'roc_auc': 0.9779801004290801,\n",
       " 'accuracy': 0.9285714285714286,\n",
       " 'f1': 0.9181286549707602}"
      ]
     },
     "metadata": {},
     "output_type": "display_data"
    },
    {
     "name": "stdout",
     "output_type": "stream",
     "text": [
      "Model knn_v1 Private Score !\n"
     ]
    },
    {
     "data": {
      "text/plain": [
       "{'logloss': 0.30105869748166014,\n",
       " 'roc_auc': 0.9765080479366193,\n",
       " 'accuracy': 0.924812030075188,\n",
       " 'f1': 0.9126277372262774}"
      ]
     },
     "metadata": {},
     "output_type": "display_data"
    },
    {
     "name": "stdout",
     "output_type": "stream",
     "text": [
      "Model xgboost_v1 Private Score !\n"
     ]
    },
    {
     "data": {
      "text/plain": [
       "{'logloss': 0.10904101810282689,\n",
       " 'roc_auc': 0.9903080923489086,\n",
       " 'accuracy': 0.9611528822055138,\n",
       " 'f1': 0.955654189440398}"
      ]
     },
     "metadata": {},
     "output_type": "display_data"
    },
    {
     "name": "stdout",
     "output_type": "stream",
     "text": [
      "Model dnn_v1 Private Score !\n"
     ]
    },
    {
     "data": {
      "text/plain": [
       "{'logloss': 0.15466274567646401,\n",
       " 'roc_auc': 0.9864184353980272,\n",
       " 'accuracy': 0.9536340852130326,\n",
       " 'f1': 0.946409416377018}"
      ]
     },
     "metadata": {},
     "output_type": "display_data"
    },
    {
     "name": "stdout",
     "output_type": "stream",
     "text": [
      "Model ensemble_v1 Private Score !\n"
     ]
    },
    {
     "data": {
      "text/plain": [
       "{'logloss': 0.16744313197341587,\n",
       " 'roc_auc': 0.9877866204396817,\n",
       " 'accuracy': 0.9573934837092731,\n",
       " 'f1': 0.9511142181734318}"
      ]
     },
     "metadata": {},
     "output_type": "display_data"
    }
   ],
   "source": [
    "for i in architecture_name_list.keys():\n",
    "    architecture_path = architecture_root_path + i + \"/\"\n",
    "    output = pickleIO(None, architecture_path + \"./submission.pkl\", \"r\")\n",
    "    y_pred_prob = output[\"prob\"]\n",
    "    y_pred = output[\"pred\"]\n",
    "    score_dic = {\n",
    "        \"logloss\": metrics.log_loss(df_private_y, y_pred_prob[:, 1]),\n",
    "        \"roc_auc\": metrics.roc_auc_score(df_private_y, y_pred_prob[:, 1]),\n",
    "        \"accuracy\": metrics.accuracy_score(df_private_y, y_pred),\n",
    "        \"f1\": metrics.f1_score(df_private_y, y_pred, average=\"macro\"),\n",
    "    }\n",
    "    print(f\"Model {i} Private Score !\")\n",
    "    display(score_dic)\n",
    "    architecture_name_list[i] = score_dic"
   ]
  },
  {
   "cell_type": "code",
   "execution_count": 40,
   "id": "6c560d78",
   "metadata": {},
   "outputs": [
    {
     "data": {
      "text/html": [
       "<div>\n",
       "<style scoped>\n",
       "    .dataframe tbody tr th:only-of-type {\n",
       "        vertical-align: middle;\n",
       "    }\n",
       "\n",
       "    .dataframe tbody tr th {\n",
       "        vertical-align: top;\n",
       "    }\n",
       "\n",
       "    .dataframe thead th {\n",
       "        text-align: right;\n",
       "    }\n",
       "</style>\n",
       "<table border=\"1\" class=\"dataframe\">\n",
       "  <thead>\n",
       "    <tr style=\"text-align: right;\">\n",
       "      <th></th>\n",
       "      <th>logloss</th>\n",
       "      <th>roc_auc</th>\n",
       "      <th>accuracy</th>\n",
       "      <th>f1</th>\n",
       "    </tr>\n",
       "  </thead>\n",
       "  <tbody>\n",
       "    <tr>\n",
       "      <th>lg_v1</th>\n",
       "      <td>0.175951</td>\n",
       "      <td>0.978453</td>\n",
       "      <td>0.933584</td>\n",
       "      <td>0.923874</td>\n",
       "    </tr>\n",
       "    <tr>\n",
       "      <th>elasticnet_v1</th>\n",
       "      <td>0.178367</td>\n",
       "      <td>0.978131</td>\n",
       "      <td>0.938596</td>\n",
       "      <td>0.929763</td>\n",
       "    </tr>\n",
       "    <tr>\n",
       "      <th>randomforest_v1</th>\n",
       "      <td>0.252227</td>\n",
       "      <td>0.977980</td>\n",
       "      <td>0.928571</td>\n",
       "      <td>0.918129</td>\n",
       "    </tr>\n",
       "    <tr>\n",
       "      <th>knn_v1</th>\n",
       "      <td>0.301059</td>\n",
       "      <td>0.976508</td>\n",
       "      <td>0.924812</td>\n",
       "      <td>0.912628</td>\n",
       "    </tr>\n",
       "    <tr>\n",
       "      <th>xgboost_v1</th>\n",
       "      <td>0.109041</td>\n",
       "      <td>0.990308</td>\n",
       "      <td>0.961153</td>\n",
       "      <td>0.955654</td>\n",
       "    </tr>\n",
       "    <tr>\n",
       "      <th>dnn_v1</th>\n",
       "      <td>0.154663</td>\n",
       "      <td>0.986418</td>\n",
       "      <td>0.953634</td>\n",
       "      <td>0.946409</td>\n",
       "    </tr>\n",
       "    <tr>\n",
       "      <th>ensemble_v1</th>\n",
       "      <td>0.167443</td>\n",
       "      <td>0.987787</td>\n",
       "      <td>0.957393</td>\n",
       "      <td>0.951114</td>\n",
       "    </tr>\n",
       "  </tbody>\n",
       "</table>\n",
       "</div>"
      ],
      "text/plain": [
       "                  logloss   roc_auc  accuracy        f1\n",
       "lg_v1            0.175951  0.978453  0.933584  0.923874\n",
       "elasticnet_v1    0.178367  0.978131  0.938596  0.929763\n",
       "randomforest_v1  0.252227  0.977980  0.928571  0.918129\n",
       "knn_v1           0.301059  0.976508  0.924812  0.912628\n",
       "xgboost_v1       0.109041  0.990308  0.961153  0.955654\n",
       "dnn_v1           0.154663  0.986418  0.953634  0.946409\n",
       "ensemble_v1      0.167443  0.987787  0.957393  0.951114"
      ]
     },
     "execution_count": 40,
     "metadata": {},
     "output_type": "execute_result"
    }
   ],
   "source": [
    "pd.DataFrame(architecture_name_list).T"
   ]
  },
  {
   "cell_type": "code",
   "execution_count": 42,
   "id": "6706a4a4",
   "metadata": {},
   "outputs": [],
   "source": [
    "pd.DataFrame(architecture_name_list).T.to_csv(\"./private_score.csv\")"
   ]
  },
  {
   "cell_type": "code",
   "execution_count": null,
   "id": "aeb70b3c",
   "metadata": {},
   "outputs": [],
   "source": []
  }
 ],
 "metadata": {
  "kernelspec": {
   "display_name": "Python 3 (ipykernel)",
   "language": "python",
   "name": "python3"
  },
  "language_info": {
   "codemirror_mode": {
    "name": "ipython",
    "version": 3
   },
   "file_extension": ".py",
   "mimetype": "text/x-python",
   "name": "python",
   "nbconvert_exporter": "python",
   "pygments_lexer": "ipython3",
   "version": "3.8.10"
  }
 },
 "nbformat": 4,
 "nbformat_minor": 5
}
