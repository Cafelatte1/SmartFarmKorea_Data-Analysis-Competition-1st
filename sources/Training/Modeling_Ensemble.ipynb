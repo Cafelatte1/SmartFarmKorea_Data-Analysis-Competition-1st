{
 "cells": [
  {
   "cell_type": "markdown",
   "id": "4ef4f44d",
   "metadata": {},
   "source": [
    "## Setup"
   ]
  },
  {
   "cell_type": "code",
   "execution_count": 1,
   "id": "34ceb3f1",
   "metadata": {},
   "outputs": [],
   "source": [
    "GLOBAL_SEED = 42\n",
    "\n",
    "import os\n",
    "os.environ['PYTHONHASHSEED'] = str(GLOBAL_SEED)\n",
    "import glob\n",
    "import sys\n",
    "import shutil\n",
    "import pickle\n",
    "import random as rnd\n",
    "from tqdm import tqdm\n",
    "import time\n",
    "\n",
    "import numpy as np\n",
    "from numpy import random as np_rnd\n",
    "import pandas as pd\n",
    "import matplotlib.pyplot as plt\n",
    "from sklearn.model_selection import train_test_split as tts\n",
    "\n",
    "from sklearn.preprocessing import OneHotEncoder, StandardScaler, MinMaxScaler\n",
    "from sklearn import linear_model as lm\n",
    "from sklearn import metrics\n",
    "\n",
    "import xgboost as xgb\n",
    "\n",
    "import librosa\n",
    "\n",
    "import torch\n",
    "from torch import nn\n",
    "import torch.nn.functional as F\n",
    "from torch.optim import AdamW\n",
    "from torch.utils.data import DataLoader, Dataset\n",
    "from transformers import get_polynomial_decay_schedule_with_warmup\n",
    "device = torch.device('cuda' if torch.cuda.is_available() else 'cpu')"
   ]
  },
  {
   "cell_type": "code",
   "execution_count": 2,
   "id": "a13cd020",
   "metadata": {},
   "outputs": [],
   "source": [
    "def seed_everything(seed=42):\n",
    "    os.environ['PYTHONHASHSEED'] = str(seed)\n",
    "    # python random\n",
    "    rnd.seed(seed)\n",
    "    # numpy random\n",
    "    np_rnd.seed(seed)\n",
    "    # tf random\n",
    "    try:\n",
    "        tf_rnd.set_seed(seed)\n",
    "    except:\n",
    "        pass\n",
    "    # RAPIDS random\n",
    "    try:\n",
    "        cupy.random.seed(seed)\n",
    "    except:\n",
    "        pass\n",
    "    # pytorch random\n",
    "    try:\n",
    "        torch.manual_seed(seed)\n",
    "        torch.cuda.manual_seed(seed)\n",
    "        torch.backends.cudnn.deterministic = True\n",
    "    except:\n",
    "        pass\n",
    "\n",
    "def pickleIO(obj, src, op=\"w\"):\n",
    "    if op == \"w\":\n",
    "        with open(src, op + \"b\") as f:\n",
    "            pickle.dump(obj, f)\n",
    "    elif op == \"r\":\n",
    "        with open(src, op + \"b\") as f:\n",
    "            tmp = pickle.load(f)\n",
    "        return tmp\n",
    "    else:\n",
    "        print(\"unknown operation\")\n",
    "        return obj\n",
    "    \n",
    "def findIdx(data_x, col_names):\n",
    "    return [int(i) for i, j in enumerate(data_x) if j in col_names]\n",
    "\n",
    "def diff(first, second):\n",
    "        second = set(second)\n",
    "        return [item for item in first if item not in second]\n",
    "    \n",
    "def createFolder(directory):\n",
    "    try:\n",
    "        if not os.path.exists(directory):\n",
    "            os.makedirs(directory)\n",
    "    except OSError:\n",
    "        print('Error: Creating directory. ' + directory)\n",
    "        \n",
    "def week_of_month(dt):\n",
    "    \"\"\" \n",
    "        Returns the week of the month for the specified date.\n",
    "    \"\"\"\n",
    "    first_day = dt.replace(day=1)\n",
    "    dom = dt.day\n",
    "    adjusted_dom = dom + (1 + first_day.weekday()) % 7\n",
    "    return int(np.ceil(adjusted_dom/7.0))\n",
    "\n",
    "def get_season(dt):\n",
    "    dt = int(dt)\n",
    "    if dt in [3, 4, 5]:\n",
    "        return 0\n",
    "    elif dt in [6, 7, 8]:\n",
    "        return 1\n",
    "    elif dt in [9, 10, 11]:\n",
    "        return 2\n",
    "    else:\n",
    "        return 3"
   ]
  },
  {
   "cell_type": "code",
   "execution_count": 3,
   "id": "fa84c5ec",
   "metadata": {},
   "outputs": [],
   "source": [
    "class CFG:\n",
    "    debug = False\n",
    "    data_path = \".\\\\data\\\\\"\n",
    "    \n",
    "    n_mfcc = 32\n",
    "    n_chroma = 16\n",
    "    \n",
    "    epochs = 50\n",
    "    batch_size = 32\n",
    "    warmup = int(epochs * 0.1)\n",
    "    early_stopping_rounds = int(epochs * 0.2)\n",
    "    \n",
    "    eta = 5e-4\n",
    "    weight_decay = 1e-4"
   ]
  },
  {
   "cell_type": "markdown",
   "id": "a0945079",
   "metadata": {},
   "source": [
    "## Loading public data & Ensemble"
   ]
  },
  {
   "cell_type": "code",
   "execution_count": 4,
   "id": "d393964e",
   "metadata": {},
   "outputs": [],
   "source": [
    "df_public = pickleIO(None, \"./dataset/df_public.pkl\", \"r\")\n",
    "df_public[\"type\"] = df_public[\"type\"].apply(lambda x: 1 if x == \"abdominal\" else 0)\n",
    "df_public_y = df_public[\"type\"].astype(\"int32\")"
   ]
  },
  {
   "cell_type": "code",
   "execution_count": 5,
   "id": "151e7184",
   "metadata": {},
   "outputs": [],
   "source": [
    "architecture_root_path = \"./architectures/\"\n",
    "architecture_name = \"ensemble_v1\"\n",
    "architecture_path = architecture_root_path + architecture_name + \"/\"\n",
    "createFolder(architecture_path)\n",
    "architecture_name_list = {\n",
    "    \"elasticnet_v1\": None,\n",
    "    \"randomforest_v1\": None,\n",
    "    \"knn_v1\": None,\n",
    "    \"xgboost_v1\":  None,\n",
    "    \"dnn_v1\": None,\n",
    "}\n",
    "model_weight = {\n",
    "    \"elasticnet_v1\": 0.1,\n",
    "    \"randomforest_v1\": 0.2,\n",
    "    \"knn_v1\": 0.2,\n",
    "    \"xgboost_v1\":  0.25,\n",
    "    \"dnn_v1\": 0.25,\n",
    "}"
   ]
  },
  {
   "cell_type": "code",
   "execution_count": 6,
   "id": "f88020a0",
   "metadata": {},
   "outputs": [],
   "source": [
    "for i in architecture_name_list.keys():\n",
    "    architecture_name_list[i] = pickleIO(None, architecture_root_path + i + \"/lb_submission.pkl\", \"r\")"
   ]
  },
  {
   "cell_type": "code",
   "execution_count": 7,
   "id": "b9140ffb",
   "metadata": {},
   "outputs": [
    {
     "name": "stdout",
     "output_type": "stream",
     "text": [
      "ensembled threshold : 0.42500000000000004\n"
     ]
    }
   ],
   "source": [
    "y_pred_prob = np.stack([i[0] * i[1][\"prob\"] for i in zip(model_weight.values(), architecture_name_list.values())], axis=0).sum(axis=0)\n",
    "best_threshold = np.sum([i[0] * pickleIO(None, architecture_root_path + i[1] + \"/threshold_opt_resut.pkl\", \"r\")[1] for i in zip(model_weight.values(), architecture_name_list)])\n",
    "y_pred = (y_pred_prob[:, 1] > best_threshold).astype(\"int32\")\n",
    "print(\"ensembled threshold :\", best_threshold)"
   ]
  },
  {
   "cell_type": "code",
   "execution_count": 8,
   "id": "9a1b9831",
   "metadata": {},
   "outputs": [
    {
     "name": "stdout",
     "output_type": "stream",
     "text": [
      "LB Score !\n"
     ]
    },
    {
     "data": {
      "text/plain": [
       "{'logloss': 0.15918331248678821,\n",
       " 'roc_auc': 0.9910477120335406,\n",
       " 'accuracy': 0.967459324155194,\n",
       " 'f1': 0.9626388409300184}"
      ]
     },
     "metadata": {},
     "output_type": "display_data"
    }
   ],
   "source": [
    "score_dic = {\n",
    "    \"logloss\": metrics.log_loss(df_public_y, y_pred_prob[:, 1]),\n",
    "    \"roc_auc\": metrics.roc_auc_score(df_public_y, y_pred_prob[:, 1]),\n",
    "    \"accuracy\": metrics.accuracy_score(df_public_y, y_pred),\n",
    "    \"f1\": metrics.f1_score(df_public_y, y_pred, average=\"macro\"),\n",
    "}\n",
    "print(\"LB Score !\")\n",
    "display(score_dic)"
   ]
  },
  {
   "cell_type": "code",
   "execution_count": 9,
   "id": "002906c3",
   "metadata": {},
   "outputs": [],
   "source": [
    "# Save data\n",
    "score_dic = pd.Series(score_dic)\n",
    "score_dic.index.name = \"metric\"\n",
    "score_dic.name = \"value\"\n",
    "score_dic.to_csv(architecture_path + \"./lb_score.csv\")\n",
    "\n",
    "pickleIO(architecture_name_list, architecture_path + \"./architecture_name_list.pkl\", \"w\")\n",
    "pickleIO(model_weight, architecture_path + \"./model_weight.pkl\", \"w\")\n",
    "pickleIO(best_threshold, architecture_path + \"./threshold_opt_resut.pkl\", \"w\")\n",
    "pickleIO({\"prob\": y_pred_prob, \"pred\": y_pred}, architecture_path + \"./lb_submission.pkl\", \"w\")"
   ]
  },
  {
   "cell_type": "markdown",
   "id": "7c635c08",
   "metadata": {},
   "source": [
    "## Inference private data"
   ]
  },
  {
   "cell_type": "code",
   "execution_count": 10,
   "id": "7593bf62",
   "metadata": {},
   "outputs": [],
   "source": [
    "for i in architecture_name_list.keys():\n",
    "    architecture_name_list[i] = pickleIO(None, architecture_root_path + i + \"/submission.pkl\", \"r\")"
   ]
  },
  {
   "cell_type": "code",
   "execution_count": 11,
   "id": "83432e43",
   "metadata": {},
   "outputs": [],
   "source": [
    "y_pred_prob = np.stack([i[0] * i[1][\"prob\"] for i in zip(model_weight.values(), architecture_name_list.values())], axis=0).sum(axis=0)\n",
    "# best_threshold = np.sum([i[0] * pickleIO(None, architecture_root_path + i[1] + \"/threshold_opt_resut.pkl\", \"r\")[1] for i in zip(model_weight.values(), architecture_name_list)])\n",
    "y_pred = (y_pred_prob[:, 1] > best_threshold).astype(\"int32\")"
   ]
  },
  {
   "cell_type": "code",
   "execution_count": 12,
   "id": "6e6c09c3",
   "metadata": {},
   "outputs": [
    {
     "data": {
      "text/plain": [
       "array([[0.05686288, 0.9431371 ],\n",
       "       [0.21562597, 0.78437402],\n",
       "       [0.57055397, 0.42944603],\n",
       "       [0.67106817, 0.32893185],\n",
       "       [0.17026489, 0.82973513],\n",
       "       [0.67779343, 0.32220658],\n",
       "       [0.20540322, 0.79459678],\n",
       "       [0.0615923 , 0.9384077 ],\n",
       "       [0.24983181, 0.75016818],\n",
       "       [0.03753989, 0.96246013]])"
      ]
     },
     "execution_count": 12,
     "metadata": {},
     "output_type": "execute_result"
    }
   ],
   "source": [
    "y_pred_prob[:10]"
   ]
  },
  {
   "cell_type": "code",
   "execution_count": 13,
   "id": "4e944f37",
   "metadata": {},
   "outputs": [
    {
     "data": {
      "text/plain": [
       "array([1, 1, 1, 0, 1, 0, 1, 1, 1, 1])"
      ]
     },
     "execution_count": 13,
     "metadata": {},
     "output_type": "execute_result"
    }
   ],
   "source": [
    "y_pred[:10]"
   ]
  },
  {
   "cell_type": "code",
   "execution_count": 14,
   "id": "af707207",
   "metadata": {},
   "outputs": [],
   "source": [
    "pickleIO({\"prob\": y_pred_prob, \"pred\": y_pred}, architecture_path + \"./submission.pkl\", \"w\")"
   ]
  },
  {
   "cell_type": "code",
   "execution_count": null,
   "id": "aeb70b3c",
   "metadata": {},
   "outputs": [],
   "source": []
  }
 ],
 "metadata": {
  "kernelspec": {
   "display_name": "Python 3 (ipykernel)",
   "language": "python",
   "name": "python3"
  },
  "language_info": {
   "codemirror_mode": {
    "name": "ipython",
    "version": 3
   },
   "file_extension": ".py",
   "mimetype": "text/x-python",
   "name": "python",
   "nbconvert_exporter": "python",
   "pygments_lexer": "ipython3",
   "version": "3.8.10"
  }
 },
 "nbformat": 4,
 "nbformat_minor": 5
}
